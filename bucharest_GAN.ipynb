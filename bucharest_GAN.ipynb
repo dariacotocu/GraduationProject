{
  "cells": [
    {
      "cell_type": "code",
      "execution_count": null,
      "metadata": {
        "colab": {
          "background_save": true
        },
        "id": "Gtwh7j-k66dD"
      },
      "outputs": [],
      "source": [
        "#took inspiration from this code https://www.analyticsvidhya.com/blog/2021/04/generate-your-own-dataset-using-gan/"
      ]
    },
    {
      "cell_type": "code",
      "source": [
        "#importing everything\n",
        "\n",
        "import tensorflow as tf\n",
        "from tensorflow import keras\n",
        "\n",
        "from tensorflow.keras.layers import Input, Reshape, Dropout, Dense \n",
        "from tensorflow.keras.layers import Flatten, BatchNormalization\n",
        "from tensorflow.keras.layers import Activation, ZeroPadding2D\n",
        "from tensorflow.keras.layers import LeakyReLU\n",
        "from tensorflow.keras.layers import UpSampling2D, Conv2D\n",
        "from tensorflow.keras.layers import Conv2DTranspose\n",
        "from tensorflow.keras.models import Sequential, Model, load_model\n",
        "from tensorflow.keras.optimizers import Adam\n",
        "from tensorflow.keras.losses import BinaryCrossentropy\n",
        "\n",
        "\n",
        "import numpy as np\n",
        "from PIL import Image\n",
        "from tqdm import tqdm\n",
        "import os \n",
        "import time\n",
        "import matplotlib.pyplot as plt\n",
        "\n",
        "import matplotlib\n",
        "matplotlib.use('Agg')"
      ],
      "metadata": {
        "id": "rW_6_aj8QxrH"
      },
      "execution_count": null,
      "outputs": []
    },
    {
      "cell_type": "code",
      "execution_count": null,
      "metadata": {
        "colab": {
          "base_uri": "https://localhost:8080/"
        },
        "id": "giscSeAv8lof",
        "outputId": "a0207a15-98c7-47dc-a5c8-f23423fbc2f9"
      },
      "outputs": [
        {
          "name": "stdout",
          "output_type": "stream",
          "text": [
            "Drive already mounted at /content/drive; to attempt to forcibly remount, call drive.mount(\"/content/drive\", force_remount=True).\n"
          ]
        }
      ],
      "source": [
        "#connect to google drive \n",
        "from google.colab import drive\n",
        "drive.mount('/content/drive')"
      ]
    },
    {
      "cell_type": "code",
      "execution_count": null,
      "metadata": {
        "id": "pgfzDm6F91g9"
      },
      "outputs": [],
      "source": [
        "GENERATE_RES = 5 #3 generation resolution factor #12 is 1600px\n",
        "# (1=32, 2=64, 3=96, 4=128)\n",
        "\n",
        "#GENERATE_SQUARE = 32 * GENERATE_RES # rows/cols (should be square)\n",
        "#IMAGE_CHANNELS = 3 \n",
        "\n",
        "#GENERATE_SQUARE = 32 * GENERATE_RES # rows/cols (should be square)\n",
        "IMAGE_CHANNELS = 3\n",
        "PREVIEW_ROWS = 1\n",
        "PREVIEW_COLS = 1\n",
        "PREVIEW_MARGIN = 1\n",
        "GENERATE_SQUARE = 400\n",
        "IMAGE_SIZE = 400\n",
        "\n",
        "\n"
      ]
    },
    {
      "cell_type": "code",
      "execution_count": null,
      "metadata": {
        "id": "9FIfQu0o96OV"
      },
      "outputs": [],
      "source": [
        "#vector to generate images from\n",
        "SEED_SIZE = 100"
      ]
    },
    {
      "cell_type": "code",
      "execution_count": null,
      "metadata": {
        "id": "aXENkH2K99CB"
      },
      "outputs": [],
      "source": [
        "DATA_PATH = '/content/drive/MyDrive/poze_bucharest_clean'\n",
        "EPOCHS = 800\n",
        "BATCH_SIZE =  16 #trained on 16\n",
        "BUFFER_SIZE = 60000\n"
      ]
    },
    {
      "cell_type": "code",
      "execution_count": null,
      "metadata": {
        "colab": {
          "base_uri": "https://localhost:8080/"
        },
        "id": "QTkwH4eh-UXC",
        "outputId": "4c1ac442-da19-4434-c7af-3f23f48bcde9"
      },
      "outputs": [
        {
          "name": "stdout",
          "output_type": "stream",
          "text": [
            "Will generate 400px square images.\n"
          ]
        }
      ],
      "source": [
        "print(f\"Will generate {GENERATE_SQUARE}px square images.\")"
      ]
    },
    {
      "cell_type": "code",
      "execution_count": null,
      "metadata": {
        "id": "B9wcS3qn-XO_"
      },
      "outputs": [],
      "source": [
        "#calculate time\n",
        "def hms_string(sec_elapsed):\n",
        "    h = int(sec_elapsed / (60 * 60))\n",
        "    m = int((sec_elapsed % (60 * 60)) / 60)\n",
        "    s = sec_elapsed % 60\n",
        "    return \"{}:{:>02}:{:>05.2f}\".format(h, m, s)"
      ]
    },
    {
      "cell_type": "code",
      "execution_count": null,
      "metadata": {
        "id": "dYbKnsgg-ZoM"
      },
      "outputs": [],
      "source": [
        "training_binary_path = os.path.join(DATA_PATH,\n",
        "        f'training_data_{GENERATE_SQUARE}_{GENERATE_SQUARE}.npy')\n"
      ]
    },
    {
      "cell_type": "code",
      "execution_count": null,
      "metadata": {
        "colab": {
          "base_uri": "https://localhost:8080/"
        },
        "id": "5CA9PRNy-brT",
        "outputId": "18fb4916-ef1b-43dd-8e2a-ee7b9e000f83"
      },
      "outputs": [
        {
          "name": "stdout",
          "output_type": "stream",
          "text": [
            "Looking for file: /content/drive/MyDrive/poze_bucharest_clean/training_data_400_400.npy\n"
          ]
        }
      ],
      "source": [
        "print(f\"Looking for file: {training_binary_path}\")"
      ]
    },
    {
      "cell_type": "code",
      "execution_count": null,
      "metadata": {
        "colab": {
          "base_uri": "https://localhost:8080/"
        },
        "id": "oFtMJXX0XTEJ",
        "outputId": "250607b8-f9cc-491f-9cc7-ad369bf89746"
      },
      "outputs": [
        {
          "name": "stdout",
          "output_type": "stream",
          "text": [
            "Loading previous training pickle...\n"
          ]
        }
      ],
      "source": [
        "#store data in binary path\n",
        "\n",
        "if not os.path.isfile(training_binary_path):\n",
        "    start = time.time()\n",
        "    print(\"Loading training images...\")\n",
        "    training_data = []\n",
        "    faces_path = os.path.join(DATA_PATH)\n",
        "    for filename in\n",
        "\n",
        "  \n",
        "  for filename in tqdm(os.listdir(faces_path)):\n",
        "      path = os.path.join(faces_path,filename)\n",
        "      image = Image.open(path).resize((GENERATE_SQUARE,\n",
        "            GENERATE_SQUARE),Image.ANTIALIAS)\n",
        "      \n",
        "\n",
        "      training_data.append(np.asarray(image))\n",
        "      training_data = np.reshape(training_data,(-1,GENERATE_SQUARE,\n",
        "            GENERATE_SQUARE,IMAGE_CHANNELS))\n",
        "      training_data = training_data.astype(np.float32)\n",
        "      training_data = training_data / 127.5 - 1.\n",
        "\n",
        "\n",
        "\n",
        "      print(\"Saving training image binary...\")\n",
        "      training_binary_path = os.path.join(DATA_PATH,\n",
        "        f'training_data_{GENERATE_SQUARE}_{GENERATE_SQUARE}.npy')\n",
        "\n",
        "      np.save(training_binary_path,training_data)\n",
        "      elapsed = time.time()-start\n",
        "      print (f'Image preprocess time: {hms_string(elapsed)}')\n",
        " \n",
        "else:\n",
        "  print(\"Loading previous training pickle...\")\n",
        "  training_data = np.load(training_binary_path)\n"
      ]
    },
    {
      "cell_type": "code",
      "execution_count": null,
      "metadata": {
        "id": "q4B2h7bd-l1X"
      },
      "outputs": [],
      "source": [
        "IMAGE_CHANNELS = 3  # number of color channels (RGB)\n"
      ]
    },
    {
      "cell_type": "code",
      "execution_count": null,
      "metadata": {
        "id": "g-7zCAIpNnaJ"
      },
      "outputs": [],
      "source": [
        "#shuffle the data into batch sizes\n",
        "train_dataset = tf.data.Dataset.from_tensor_slices(training_data) \\\n",
        "    .shuffle(BUFFER_SIZE).batch(BATCH_SIZE)"
      ]
    },
    {
      "cell_type": "code",
      "execution_count": null,
      "metadata": {
        "id": "kE71lDwdnBAb"
      },
      "outputs": [],
      "source": [
        "def build_generator(latent_dim):\n",
        "    model = keras.Sequential()\n",
        "\n",
        "    # foundation for 25x25 image\n",
        "    n_nodes = 128 * 25 * 25\n",
        "    model.add(keras.layers.Dense(n_nodes, input_dim=latent_dim))\n",
        "    model.add(keras.layers.LeakyReLU(alpha=0.2))\n",
        "    model.add(keras.layers.Reshape((25, 25, 128)))\n",
        "\n",
        " # upsample to 50x50\n",
        "    model.add(keras.layers.Conv2DTranspose(128, (4,4), strides=(2,2), padding='same'))\n",
        "    model.add(keras.layers.LeakyReLU(alpha=0.2))\n",
        "\n",
        " # upsample to 100x100\n",
        "    model.add(keras.layers.Conv2DTranspose(64, (4,4), strides=(2,2), padding='same'))\n",
        "    model.add(keras.layers.LeakyReLU(alpha=0.2))\n",
        "\n",
        " # upsample to 200x200\n",
        "    model.add(keras.layers.Conv2DTranspose(32, (4,4), strides=(2,2), padding='same'))\n",
        "    model.add(keras.layers.LeakyReLU(alpha=0.2))\n",
        "\n",
        " # upsample to 400x400\n",
        "    model.add(keras.layers.Conv2DTranspose(16, (4,4), strides=(2,2), padding='same'))\n",
        "    model.add(keras.layers.LeakyReLU(alpha=0.2))\n",
        "\n",
        " # upsample to 800x800\n",
        "   \n",
        "    #model.add(keras.layers.Conv2DTranspose(8, (4,4), strides=(2,2), padding='same'))\n",
        "    #model.add(keras.layers.LeakyReLU(alpha=0.2))\n",
        "\n",
        " # upsample to 1600x1600\n",
        "    #model.add(keras.layers.Conv2DTranspose(4, (4,4), strides=(2,2), padding='same'))\n",
        "    #model.add(keras.layers.LeakyReLU(alpha=0.2))\n",
        "\n",
        " # output layer\n",
        "    model.add(keras.layers.Conv2D(3, (3,3), activation='tanh', padding='same'))\n",
        "\n",
        "\n",
        "\n",
        "    return model\n",
        "\n"
      ]
    },
    {
      "cell_type": "code",
      "execution_count": null,
      "metadata": {
        "id": "YIBK_KL4kxjo"
      },
      "outputs": [],
      "source": [
        "#other generator try\n",
        "\n",
        "#def build_generator(seed_size, channels):\n",
        "    #model = Sequential()\n",
        "\n",
        "    #model.add(Dense(4*4*256, activation=\"relu\", input_dim=seed_size))\n",
        "    #model.add(Reshape((4,4,256)))\n",
        "\n",
        "    #model.add(UpSampling2D())\n",
        "    #model.add(Conv2D(256, kernel_size=3, padding=\"same\"))\n",
        "    #model.add(BatchNormalization(momentum=0.8))\n",
        "    #model.add(Activation(\"relu\"))\n",
        "\n",
        "    #model.add(UpSampling2D())\n",
        "    #model.add(Conv2D(256, kernel_size=3, padding=\"same\"))\n",
        "    #model.add(BatchNormalization(momentum=0.8))\n",
        "    #model.add(Activation(\"relu\"))\n",
        "\n",
        "    #model.add(UpSampling2D())\n",
        "    #model.add(Conv2D(128, kernel_size=3, padding=\"same\"))\n",
        "    #model.add(BatchNormalization(momentum=0.8))\n",
        "    #model.add(Activation(\"relu\"))\n",
        "\n",
        "    #for i in range(GENERATE_RES - 3):\n",
        "        #model.add(UpSampling2D())\n",
        "        #model.add(Conv2D(128, kernel_size=3, padding=\"same\"))\n",
        "        #model.add(BatchNormalization(momentum=0.8))\n",
        "        #model.add(Activation(\"relu\"))\n",
        "\n",
        "    # Final CNN layer\n",
        "    #model.add(Conv2D(channels, kernel_size=3, padding=\"same\", activation='tanh'))\n",
        "\n",
        "    #model.summary()\n",
        "    #return model\n"
      ]
    },
    {
      "cell_type": "code",
      "execution_count": null,
      "metadata": {
        "id": "KhdI5AoOYnep"
      },
      "outputs": [],
      "source": [
        "#other discriminator try\n",
        "\n",
        "#def build_discriminator(image_shape):\n",
        "    #model = Sequential()\n",
        "\n",
        "    #model.add(Conv2D(32, kernel_size=3, strides=2, input_shape=image_shape, \n",
        "                     #padding=\"same\"))\n",
        "    #model.add(LeakyReLU(alpha=0.2))\n",
        "\n",
        "    #model.add(Dropout(0.25))\n",
        "    #model.add(Conv2D(64, kernel_size=3, strides=2, padding=\"same\"))\n",
        "    #model.add(ZeroPadding2D(padding=((0,1),(0,1))))\n",
        "    #model.add(BatchNormalization(momentum=0.8))\n",
        "    #model.add(LeakyReLU(alpha=0.2))\n",
        "\n",
        "    #model.add(Dropout(0.25))\n",
        "    #model.add(Conv2D(128, kernel_size=3, strides=2, padding=\"same\"))\n",
        "    #model.add(BatchNormalization(momentum=0.8))\n",
        "    #model.add(LeakyReLU(alpha=0.2))\n",
        "\n",
        "    #model.add(Dropout(0.25))\n",
        "    #model.add(Conv2D(256, kernel_size=3, strides=1, padding=\"same\"))\n",
        "    #model.add(BatchNormalization(momentum=0.8))\n",
        "    #model.add(LeakyReLU(alpha=0.2))\n",
        "\n",
        "    #model.add(Dropout(0.25))\n",
        "    #model.add(Conv2D(512, kernel_size=3, strides=1, padding=\"same\"))\n",
        "    #model.add(BatchNormalization(momentum=0.8))\n",
        "    #model.add(LeakyReLU(alpha=0.2))\n",
        "\n",
        "    #model.add(Dropout(0.25))\n",
        "    #model.add(Flatten())\n",
        "    #model.add(Dense(1, activation='sigmoid'))\n",
        "\n",
        "    #return model\n"
      ]
    },
    {
      "cell_type": "code",
      "execution_count": null,
      "metadata": {
        "id": "K_2iQxa_xwB-"
      },
      "outputs": [],
      "source": [
        "def build_discriminator(img_shape, num_channels):\n",
        "    model = keras.Sequential()\n",
        "\n",
        "    model.add(keras.layers.Input(shape=img_shape))\n",
        "    model.add(keras.layers.Reshape((img_shape[0], img_shape[1], img_shape[2], 1)))\n",
        "    #model.add(keras.layers.Reshape((img_shape[0], img_shape[1], 1)))\n",
        "    model.add(keras.layers.Conv2D(64, (3,3), strides=(2,2), padding='same'))\n",
        "    model.add(keras.layers.LeakyReLU(alpha=0.2))\n",
        "    \n",
        "\n",
        "    \n",
        "    \n",
        "    #model.add(keras.layers.Input(shape=img_shape))\n",
        "    #model.add(keras.layers.Reshape((img_shape[0], img_shape[1], num_channels, 1)))\n",
        "    #model.add(keras.layers.Reshape((img_shape[0], img_shape[1], num_channels)))\n",
        "\n",
        "    #model.add(keras.layers.Conv2D(64, (3,3), strides=(2,2), padding='same'))\n",
        "    #model.add(keras.layers.LeakyReLU(alpha=0.2))\n",
        "    model.add(keras.layers.Dropout(0.4))\n",
        "    model.add(keras.layers.Conv2D(64, (3,3), strides=(2,2), padding='same'))\n",
        "    model.add(keras.layers.LeakyReLU(alpha=0.2))\n",
        "    model.add(keras.layers.Dropout(0.4))\n",
        "    model.add(keras.layers.Flatten())\n",
        "    model.add(keras.layers.Dense(1, activation='sigmoid'))\n",
        "    return model\n",
        "\n",
        "    \n"
      ]
    },
    {
      "cell_type": "code",
      "execution_count": null,
      "metadata": {
        "id": "bBJheHVmqyTU"
      },
      "outputs": [],
      "source": [
        " #save images\n",
        " \n",
        " def save_images(epoch, noise, generator):\n",
        "    image_array = np.full((PREVIEW_MARGIN + (PREVIEW_ROWS * (GENERATE_SQUARE+PREVIEW_MARGIN)), \n",
        "                           PREVIEW_MARGIN + (PREVIEW_COLS * (GENERATE_SQUARE+PREVIEW_MARGIN)), 3), \n",
        "                          255, dtype=np.uint8)\n",
        "\n",
        "    generated_images = generator.predict(noise)\n",
        "\n",
        "    generated_images = 0.5 * generated_images + 0.5\n",
        "\n",
        "    image_count = 0\n",
        "    for row in range(PREVIEW_ROWS):\n",
        "        for col in range(PREVIEW_COLS):\n",
        "            r = row * (GENERATE_SQUARE+16) + PREVIEW_MARGIN\n",
        "            c = col * (GENERATE_SQUARE+16) + PREVIEW_MARGIN\n",
        "            image_array[r:r+GENERATE_SQUARE,c:c+GENERATE_SQUARE] \\\n",
        "                = generated_images[image_count] * 255\n",
        "            image_count += 1\n",
        "\n",
        "    output_path = os.path.join(DATA_PATH, 'output1')\n",
        "    if not os.path.exists(output_path):\n",
        "        os.makedirs(output_path)\n",
        "\n",
        "    filename = os.path.join(output_path, f'train-{epoch}.png')\n",
        "    im = Image.fromarray(image_array)\n",
        "    im.save(filename)\n",
        "\n",
        "\n",
        "\n"
      ]
    },
    {
      "cell_type": "code",
      "execution_count": null,
      "metadata": {
        "id": "7wzmNyMMmRfm"
      },
      "outputs": [],
      "source": [
        "#def save_images(cnt, noise, size):    #for one image but still small\n",
        "  #  generated_images = generator.predict(noise)\n",
        "\n",
        "   # generated_images = 0.5 * generated_images + 0.5\n",
        "\n",
        "  #  for i in range(generated_images.shape[0]):\n",
        "    #    output_path = os.path.join(DATA_PATH, 'output10')\n",
        "     #   if not os.path.exists(output_path):\n",
        "      #      os.makedirs(output_path)\n",
        "\n",
        "     #   filename = os.path.join(output_path, f\"train-{cnt+i}.png\")\n",
        "      #  im = Image.fromarray((generated_images[i]*255).astype('uint8'))\n",
        "      #  im.save(filename)\n",
        "\n"
      ]
    },
    {
      "cell_type": "code",
      "execution_count": null,
      "metadata": {
        "id": "fa8MukhWq1T2"
      },
      "outputs": [],
      "source": [
        "#generator = build_generator(SEED_SIZE, IMAGE_CHANNELS)\n",
        "\n",
        "#noise = tf.random.normal([1, SEED_SIZE])\n",
        "#noise = tf.random.normal([1, 100])\n",
        "\n",
        "#generated_image = generator(noise, training=False)\n",
        "\n",
        "#plt.imshow(generated_image[0, :, :, 0])\n",
        "\n",
        "#image_shape = (GENERATE_SQUARE,GENERATE_SQUARE,IMAGE_CHANNELS)\n",
        "\n",
        "#discriminator = build_discriminator(image_shape)\n",
        "#decision = discriminator(generated_image)\n",
        "#print (decision)\n",
        "\n",
        "#cross_entropy = tf.keras.losses.BinaryCrossentropy()\n"
      ]
    },
    {
      "cell_type": "code",
      "execution_count": null,
      "metadata": {
        "id": "sf3X4ZG9FVAz"
      },
      "outputs": [],
      "source": [
        "def generate_images(generator, seed, save_path):\n",
        "    images = generator(seed, training=False)\n",
        "    images = (images * 0.5 + 0.5) * 255\n",
        "    images = tf.cast(images, tf.uint8)\n",
        "    for i in range(images.shape[0]):\n",
        "        img = keras.preprocessing.image.array_to_img(images[i])\n",
        "        img.save(f\"{save_path}/generated_image_{i}.png\")\n"
      ]
    },
    {
      "cell_type": "code",
      "execution_count": null,
      "metadata": {
        "colab": {
          "base_uri": "https://localhost:8080/"
        },
        "id": "igtepFB6FbsB",
        "outputId": "c6b9fd0e-4b52-4094-9c07-7bcfaa85fe66"
      },
      "outputs": [
        {
          "name": "stdout",
          "output_type": "stream",
          "text": [
            "Model: \"sequential\"\n",
            "_________________________________________________________________\n",
            " Layer (type)                Output Shape              Param #   \n",
            "=================================================================\n",
            " dense (Dense)               (None, 80000)             8080000   \n",
            "                                                                 \n",
            " leaky_re_lu (LeakyReLU)     (None, 80000)             0         \n",
            "                                                                 \n",
            " reshape (Reshape)           (None, 25, 25, 128)       0         \n",
            "                                                                 \n",
            " conv2d_transpose (Conv2DTra  (None, 50, 50, 128)      262272    \n",
            " nspose)                                                         \n",
            "                                                                 \n",
            " leaky_re_lu_1 (LeakyReLU)   (None, 50, 50, 128)       0         \n",
            "                                                                 \n",
            " conv2d_transpose_1 (Conv2DT  (None, 100, 100, 64)     131136    \n",
            " ranspose)                                                       \n",
            "                                                                 \n",
            " leaky_re_lu_2 (LeakyReLU)   (None, 100, 100, 64)      0         \n",
            "                                                                 \n",
            " conv2d_transpose_2 (Conv2DT  (None, 200, 200, 32)     32800     \n",
            " ranspose)                                                       \n",
            "                                                                 \n",
            " leaky_re_lu_3 (LeakyReLU)   (None, 200, 200, 32)      0         \n",
            "                                                                 \n",
            " conv2d_transpose_3 (Conv2DT  (None, 400, 400, 16)     8208      \n",
            " ranspose)                                                       \n",
            "                                                                 \n",
            " leaky_re_lu_4 (LeakyReLU)   (None, 400, 400, 16)      0         \n",
            "                                                                 \n",
            " conv2d (Conv2D)             (None, 400, 400, 3)       435       \n",
            "                                                                 \n",
            "=================================================================\n",
            "Total params: 8,514,851\n",
            "Trainable params: 8,514,851\n",
            "Non-trainable params: 0\n",
            "_________________________________________________________________\n",
            "Model: \"sequential_1\"\n",
            "_________________________________________________________________\n",
            " Layer (type)                Output Shape              Param #   \n",
            "=================================================================\n",
            " reshape_1 (Reshape)         (None, 400, 400, 3, 1)    0         \n",
            "                                                                 \n",
            " conv2d_1 (Conv2D)           (None, 400, 200, 2, 64)   640       \n",
            "                                                                 \n",
            " leaky_re_lu_5 (LeakyReLU)   (None, 400, 200, 2, 64)   0         \n",
            "                                                                 \n",
            " dropout (Dropout)           (None, 400, 200, 2, 64)   0         \n",
            "                                                                 \n",
            " conv2d_2 (Conv2D)           (None, 400, 100, 1, 64)   36928     \n",
            "                                                                 \n",
            " leaky_re_lu_6 (LeakyReLU)   (None, 400, 100, 1, 64)   0         \n",
            "                                                                 \n",
            " dropout_1 (Dropout)         (None, 400, 100, 1, 64)   0         \n",
            "                                                                 \n",
            " flatten (Flatten)           (None, 2560000)           0         \n",
            "                                                                 \n",
            " dense_1 (Dense)             (None, 1)                 2560001   \n",
            "                                                                 \n",
            "=================================================================\n",
            "Total params: 2,597,569\n",
            "Trainable params: 2,597,569\n",
            "Non-trainable params: 0\n",
            "_________________________________________________________________\n"
          ]
        }
      ],
      "source": [
        "generator = build_generator(SEED_SIZE)\n",
        "generator.summary()\n",
        "\n",
        "#create discriminator \n",
        "image_shape = (IMAGE_SIZE, IMAGE_CHANNELS)\n",
        "#discriminator = build_discriminator(img_shape=(1600, 1600, 3))\n",
        "#image_shape = (1600, 1600)\n",
        "num_channels = 3\n",
        "image_shape = (400, 400, num_channels)\n",
        "discriminator = build_discriminator(num_channels=num_channels, img_shape=image_shape)\n",
        "\n",
        "\n",
        "\n",
        "\n",
        "\n",
        "\n",
        "discriminator.summary()\n",
        "\n",
        "#compile the discriminator\n",
        "discriminator.compile(\n",
        "    loss=\"binary_crossentropy\",\n",
        "    optimizer=keras.optimizers.Adam(learning_rate=0.0002, beta_1=0.5),\n",
        ")"
      ]
    },
    {
      "cell_type": "code",
      "execution_count": null,
      "metadata": {
        "id": "8yGmgDH1Fkep"
      },
      "outputs": [],
      "source": [
        "#compile the combined model\n",
        "z = keras.layers.Input(shape=(SEED_SIZE,))\n",
        "img = generator(z)\n",
        "discriminator.trainable = False\n",
        "validity = discriminator(img)\n",
        "combined = keras.models.Model(z, validity)\n",
        "combined.compile(loss='binary_crossentropy', optimizer=keras.optimizers.Adam(learning_rate=0.0002, beta_1=0.5))\n"
      ]
    },
    {
      "cell_type": "code",
      "execution_count": null,
      "metadata": {
        "id": "XJdrhw0bFncX"
      },
      "outputs": [],
      "source": [
        "noise = tf.random.normal([1, SEED_SIZE])\n",
        "generated_image = generator(noise, training=False)\n",
        "print(generated_image.shape)\n"
      ]
    },
    {
      "cell_type": "code",
      "execution_count": null,
      "metadata": {
        "id": "hxOL18zvFphD"
      },
      "outputs": [],
      "source": [
        "decision = discriminator(generated_image)"
      ]
    },
    {
      "cell_type": "code",
      "execution_count": null,
      "metadata": {
        "id": "qpW-WFa3B1_z"
      },
      "outputs": [],
      "source": [
        "\n",
        "## Build the generator\n",
        "#generator = build_generator(SEED_SIZE, IMAGE_CHANNELS)\n",
        "\n",
        "# Build the discriminator\n",
        "#discriminator = build_discriminator(image_shape)\n",
        "\n",
        "# Compile the discriminator\n",
        "#discriminator.compile(loss='binary_crossentropy', \n",
        "               #       optimizer=keras.optimizers.Adam(learning_rate=0.0002, beta_1=0.5), \n",
        "                ##      metrics=['accuracy'])\n",
        "\n",
        "\n",
        "#z = keras.layers.Input(shape=(SEED_SIZE,))\n",
        "#img = generator(z)\n",
        "#discriminator.trainable = False\n",
        "#validity = discriminator(img)\n",
        "#combined = keras.models.Model(z, validity)\n",
        "#combined.compile(loss='binary_crossentropy', \n",
        "                # optimizer=keras.optimizers.Adam(learning_rate=0.0002, beta_1=0.5))\n",
        "\n",
        "# Generate a sample image\n",
        "#noise = tf.random.normal([1, SEED_SIZE])\n",
        "#generated_image = generator(noise, training=False)\n",
        "\n",
        "#rescaled_generated_image = tf.image.resize(generated_image, [1600, 1600], method='nearest')\n",
        "\n",
        "#decision = discriminator(rescaled_generated_image)\n",
        "#print(decision)\n"
      ]
    },
    {
      "cell_type": "code",
      "execution_count": null,
      "metadata": {
        "id": "frt02CX8q4ei"
      },
      "outputs": [],
      "source": [
        "#create loss function\n",
        "def discriminator_loss(real_output, fake_output):\n",
        "    real_loss = tf.keras.losses.BinaryCrossentropy(from_logits=True)(tf.ones_like(real_output), real_output)\n",
        "    fake_loss = tf.keras.losses.BinaryCrossentropy(from_logits=True)(tf.zeros_like(fake_output), fake_output)\n",
        "    total_loss = tf.reduce_mean(real_loss) + tf.reduce_mean(fake_loss)\n",
        "    return total_loss\n"
      ]
    },
    {
      "cell_type": "code",
      "execution_count": null,
      "metadata": {
        "id": "Tl8s6DAPq67n"
      },
      "outputs": [],
      "source": [
        " #create loss function\n",
        " def generator_loss(fake_output):\n",
        "    return tf.keras.losses.BinaryCrossentropy(from_logits=True)(tf.ones_like(fake_output), fake_output)\n"
      ]
    },
    {
      "cell_type": "code",
      "execution_count": null,
      "metadata": {
        "id": "Mq7JKkIoq8K9"
      },
      "outputs": [],
      "source": [
        "LEARNING_RATE = 0.0002\n",
        "BETA_1 = 0.5\n",
        "LATENT_DIM = 100\n",
        "\n",
        "generator_optimizer = tf.keras.optimizers.legacy.Adam(learning_rate=LEARNING_RATE, beta_1=BETA_1)\n",
        "discriminator_optimizer = tf.keras.optimizers.legacy.Adam(learning_rate=LEARNING_RATE, beta_1=BETA_1)\n",
        "\n",
        "\n",
        "#initialize the weights of the optimizer slots \n",
        "for var in generator.variables:\n",
        "    if \"adam\" in var.name:\n",
        "        generator_optimizer.add_slot(var, \"m\")\n",
        "        generator_optimizer.add_slot(var, \"v\")\n",
        "\n",
        "for var in discriminator.variables:\n",
        "    if \"adam\" in var.name:\n",
        "        discriminator_optimizer.add_slot(var, \"m\")\n",
        "        discriminator_optimizer.add_slot(var, \"v\")\n",
        "\n",
        "\n",
        "def train_step(images, generator, discriminator, generator_optimizer, discriminator_optimizer):\n",
        "    noise = tf.random.normal([BATCH_SIZE, 100])\n",
        "    with tf.GradientTape() as gen_tape, tf.GradientTape() as disc_tape:\n",
        "        generated_images = generator(noise, training=True)\n",
        "\n",
        "        real_output = discriminator(images, training=True)\n",
        "        fake_output = discriminator(generated_images, training=True)\n",
        "\n",
        "        gen_loss = generator_loss(fake_output)\n",
        "        disc_loss = discriminator_loss(real_output, fake_output)\n",
        "\n",
        "    gradients_of_generator = gen_tape.gradient(gen_loss, generator.trainable_variables)\n",
        "    gradients_of_discriminator = disc_tape.gradient(disc_loss, discriminator.trainable_variables)\n",
        "\n",
        "    generator_optimizer.apply_gradients(zip(gradients_of_generator, generator.trainable_variables))\n",
        "    discriminator_optimizer.apply_gradients(zip(gradients_of_discriminator, discriminator.trainable_variables))\n",
        "\n",
        "\n",
        "\n",
        "\n",
        "\n",
        "    return gen_loss, disc_loss\n",
        "    \n",
        "    \n",
        "\n",
        "\n",
        "    \n",
        "\n"
      ]
    },
    {
      "cell_type": "code",
      "execution_count": null,
      "metadata": {
        "id": "hUe3enGMq_ao"
      },
      "outputs": [],
      "source": [
        "#start training\n",
        "\n",
        "def train(dataset, epochs):\n",
        "    fixed_seed = np.random.normal(0, 1, (PREVIEW_ROWS * PREVIEW_COLS, SEED_SIZE))\n",
        "    start = time.time()\n",
        "    #size = (GENERATE_SQUARE, GENERATE_SQUARE)\n",
        "\n",
        "  \n",
        "    generator = build_generator(latent_dim=SEED_SIZE)\n",
        "  \n",
        "    num_channels = 3\n",
        "    size = (400, 400, num_channels)\n",
        "    discriminator = build_discriminator(img_shape=(400, 400, num_channels), num_channels=num_channels)\n",
        "\n",
        "    # ...\n",
        "\n",
        "    for epoch in range(epochs):\n",
        "        epoch_start = time.time()\n",
        "        gen_loss_list = []\n",
        "        disc_loss_list = []\n",
        "\n",
        "        for image_batch in dataset:\n",
        "            image_batch = tf.image.resize(image_batch, (400, 400))\n",
        "            t = train_step(image_batch, generator, discriminator, generator_optimizer, discriminator_optimizer)\n",
        "\n",
        "            gen_loss_list.append(t[0])\n",
        "            disc_loss_list.append(t[1])\n",
        "\n",
        "        g_loss = sum(gen_loss_list) / len(gen_loss_list)\n",
        "        d_loss = sum(disc_loss_list) / len(disc_loss_list)\n",
        "        epoch_elapsed = time.time()-epoch_start\n",
        "\n",
        "        print(f'Epoch {epoch+1}, gen loss={g_loss}, disc loss={d_loss}, {hms_string(epoch_elapsed)}')\n",
        "\n",
        "\n",
        "        save_images(epoch, fixed_seed, generator)\n",
        "\n",
        "    elapsed = time.time()-start\n",
        "    print(f'Training time: {hms_string(elapsed)}')\n",
        "\n",
        "train(train_dataset, EPOCHS)\n",
        "#train(train_dataset, EPOCHS, generator_optimizer, discriminator_optimizer)\n",
        "\n",
        "\n",
        "\n"
      ]
    }
  ],
  "metadata": {
    "accelerator": "GPU",
    "colab": {
      "machine_shape": "hm",
      "provenance": [],
      "gpuClass": "premium"
    },
    "gpuClass": "premium",
    "kernelspec": {
      "display_name": "Python 3",
      "name": "python3"
    },
    "language_info": {
      "name": "python"
    }
  },
  "nbformat": 4,
  "nbformat_minor": 0
}